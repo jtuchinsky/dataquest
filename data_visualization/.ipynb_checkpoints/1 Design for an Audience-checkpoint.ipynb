{
 "nbformat": 4,
 "nbformat_minor": 0,
 "metadata": {
  "colab": {
   "provenance": [
    {
     "file_id": "1yVI2Hjuw6cRzfMc3sY_zY3cX1y1bL-BF",
     "timestamp": 1702848811464
    }
   ],
   "toc_visible": true,
   "authorship_tag": "ABX9TyOzQh8e79hhzohp7fjBbprz"
  },
  "kernelspec": {
   "name": "python3",
   "language": "python",
   "display_name": "Python 3 (ipykernel)"
  },
  "language_info": {
   "name": "python"
  }
 },
 "cells": [
  {
   "cell_type": "markdown",
   "source": [
    "# Design for an Audience"
   ],
   "metadata": {
    "id": "Esm87NrZq4Yl"
   }
  },
  {
   "cell_type": "markdown",
   "source": [
    "Depending on who we're making the graphs for, we have two kinds of data visualization:\n",
    "\n",
    "- **Exploratory** data visualization: we create graphs for ourselves to better understand and explore data.\n",
    "- **Explanatory** data visualization: we create graphs for others to inform, make a point, or tell a story.\n"
   ],
   "metadata": {
    "id": "V5rphEO8rKPb"
   }
  },
  {
   "cell_type": "markdown",
   "source": [
    "## The Familiarity Principle\n",
    "Let's say we're data journalists, and we're working on an article about the coronavirus. Our goal is to make readers more aware of how devastating this virus is — the assumption is that we're writing the article in December 2020, when the coronavirus was still fairly new.\n",
    "\n",
    "Although unpleasant, we want to make readers more aware that people are dying because of this virus. To that end, we want to include a graph in the article that shows the top 20 countries by the number of deaths.\n",
    "\n",
    "We've already collected the data and added it in the top20_deathtoll.csv file (the data was collected from [Worldometer](https://colab.research.google.com/drive/1mm3fFqriflmMDTQ39QroAot_QoPlOT0l#scrollTo=bt-WnfCy2ka0&line=6&uniqifier=1) on December 8, 2020).\n",
    "\n",
    "First, we need to decide which type of graph to use. To make a good decision, we need to choose a graph that our audience can easily understand.\n",
    "\n",
    "Ease of understanding often comes from familiarity. If people already know how to read a bar plot, they can immediately start reading the data on the graph. If they aren't familiar with a bar plot, they must first figure out how to read one.\n",
    "\n",
    "The **familiarity principle** typically favors simple graphs over complicated, eye-catching graphs. As data scientists, we use visuals to communicate data correctly and efficiently. Our primary aim is not to impress the audience on artistic grounds.\n",
    "\n",
    "To display the top 20 countries by number of deaths, a *horizontal bar plot* should work well enough — let's assume our audience is familiar with this kind of graph.\n",
    "\n"
   ],
   "metadata": {
    "id": "bt-WnfCy2ka0"
   }
  },
  {
   "cell_type": "code",
   "source": [
    "import pandas as pd\n",
    "import matplotlib.pyplot as plt\n",
    "\n",
    "top20_deathtoll = pd.read_csv(\"top20_deathtoll.csv\")\n",
    "plt.barh(top20_deathtoll['Country_Other'],\n",
    "         top20_deathtoll['Total_Deaths'])\n",
    "plt.show()"
   ],
   "metadata": {
    "colab": {
     "base_uri": "https://localhost:8080/",
     "height": 430
    },
    "id": "ltnRMDNs3qj5",
    "executionInfo": {
     "status": "ok",
     "timestamp": 1703357533098,
     "user_tz": 300,
     "elapsed": 2068,
     "user": {
      "displayName": "Jacob Tuchinsky",
      "userId": "16366131501287347260"
     }
    },
    "outputId": "e2ebd915-17e1-489b-c425-0738669580f6",
    "ExecuteTime": {
     "end_time": "2023-12-28T19:58:26.810484Z",
     "start_time": "2023-12-28T19:58:26.791965Z"
    }
   },
   "execution_count": 2,
   "outputs": [
    {
     "ename": "ModuleNotFoundError",
     "evalue": "No module named 'pandas'",
     "output_type": "error",
     "traceback": [
      "\u001B[0;31m---------------------------------------------------------------------------\u001B[0m",
      "\u001B[0;31mModuleNotFoundError\u001B[0m                       Traceback (most recent call last)",
      "Cell \u001B[0;32mIn[2], line 1\u001B[0m\n\u001B[0;32m----> 1\u001B[0m \u001B[38;5;28;01mimport\u001B[39;00m \u001B[38;5;21;01mpandas\u001B[39;00m \u001B[38;5;28;01mas\u001B[39;00m \u001B[38;5;21;01mpd\u001B[39;00m\n\u001B[1;32m      2\u001B[0m \u001B[38;5;28;01mimport\u001B[39;00m \u001B[38;5;21;01mmatplotlib\u001B[39;00m\u001B[38;5;21;01m.\u001B[39;00m\u001B[38;5;21;01mpyplot\u001B[39;00m \u001B[38;5;28;01mas\u001B[39;00m \u001B[38;5;21;01mplt\u001B[39;00m\n\u001B[1;32m      4\u001B[0m top20_deathtoll \u001B[38;5;241m=\u001B[39m pd\u001B[38;5;241m.\u001B[39mread_csv(\u001B[38;5;124m\"\u001B[39m\u001B[38;5;124mtop20_deathtoll.csv\u001B[39m\u001B[38;5;124m\"\u001B[39m)\n",
      "\u001B[0;31mModuleNotFoundError\u001B[0m: No module named 'pandas'"
     ]
    }
   ]
  },
  {
   "cell_type": "markdown",
   "source": [
    "## Matplotlib Interfaces\n",
    "\n",
    "This graph is our starting point. We're going to learn how to design it for our audience — by the end of this lesson, we'll get to this version:\n",
    "\n",
    "![Sample Image](./image1.png)\n",
    "\n",
    "To make the changes we want, we'll use matplotlib's object-oriented interface.\n",
    "\n",
    "Matplotlib has two interfaces:\n",
    "\n",
    "* A functional interface: we use functions to create and modify plots.\n",
    "* An object-oriented (OO) interface: we use methods to create and modify plots.\n",
    "\n",
    "We used the functional approach when we called the function `plt.barh()`. We also used this approach extensively in the Data Visualization Fundamentals course when we created and modified graphs using functions from the matplotlib.pyplot submodule: `plt.plot(), plt.scatter(), plt.title(), plt.xlim()`, etc.\n",
    "\n",
    "The functional interface is simpler and easier to use. It comes in handy in the exploratory data visualization workflow, where we need to create graphs fast. But the OO interface offers more power and flexibility in graph editing.\n",
    "\n",
    "On the next screen, we'll learn how to code a graph using the OO interface."
   ],
   "metadata": {
    "id": "490WlflGND2N"
   }
  },
  {
   "cell_type": "markdown",
   "source": [
    "### The OO Interface\n",
    "\n",
    "To create a graph using the OO interface, we use the plt.subplots() function, which generates an empty plot and returns a tuple of two objects:\n",
    "\n",
    "```python\n",
    "plt.subplots()\n",
    "plt.show()\n",
    "```"
   ],
   "metadata": {
    "id": "1jaj0_0iyTsZ"
   }
  },
  {
   "cell_type": "code",
   "source": [
    "plt.subplots()\n",
    "plt.show()"
   ],
   "metadata": {
    "colab": {
     "base_uri": "https://localhost:8080/",
     "height": 435
    },
    "id": "SWxX59Bpym0x",
    "executionInfo": {
     "status": "ok",
     "timestamp": 1702952365146,
     "user_tz": 300,
     "elapsed": 319,
     "user": {
      "displayName": "Jacob Tuchinsky",
      "userId": "16366131501287347260"
     }
    },
    "outputId": "9a1573bc-2af1-42e0-e9d4-2d7c827345e5",
    "ExecuteTime": {
     "end_time": "2023-12-28T19:58:26.848453Z",
     "start_time": "2023-12-28T19:58:26.817460Z"
    }
   },
   "execution_count": 3,
   "outputs": [
    {
     "ename": "NameError",
     "evalue": "name 'plt' is not defined",
     "output_type": "error",
     "traceback": [
      "\u001B[0;31m---------------------------------------------------------------------------\u001B[0m",
      "\u001B[0;31mNameError\u001B[0m                                 Traceback (most recent call last)",
      "Cell \u001B[0;32mIn[3], line 1\u001B[0m\n\u001B[0;32m----> 1\u001B[0m \u001B[43mplt\u001B[49m\u001B[38;5;241m.\u001B[39msubplots()\n\u001B[1;32m      2\u001B[0m plt\u001B[38;5;241m.\u001B[39mshow()\n",
      "\u001B[0;31mNameError\u001B[0m: name 'plt' is not defined"
     ]
    }
   ]
  },
  {
   "cell_type": "markdown",
   "source": [
    "We assign the two objects inside the tuple to variables fig and ax:\n",
    "\n",
    "```python\n",
    "fig, ax = plt.subplots()\n",
    "plt.show()\n",
    "print(type(fig))\n",
    "print(type(ax))\n",
    "```"
   ],
   "metadata": {
    "id": "orTZRJSMysPM"
   }
  },
  {
   "cell_type": "code",
   "source": [
    "fig, ax = plt.subplots()\n",
    "plt.show()\n",
    "print(type(fig))\n",
    "print(type(ax))"
   ],
   "metadata": {
    "colab": {
     "base_uri": "https://localhost:8080/",
     "height": 470
    },
    "id": "dCXS7PS0zEzP",
    "executionInfo": {
     "status": "ok",
     "timestamp": 1702952365147,
     "user_tz": 300,
     "elapsed": 6,
     "user": {
      "displayName": "Jacob Tuchinsky",
      "userId": "16366131501287347260"
     }
    },
    "outputId": "223458a9-2067-4bd3-f9ad-5c3e2584ba1b",
    "ExecuteTime": {
     "start_time": "2023-12-28T19:58:26.819893Z"
    }
   },
   "execution_count": null,
   "outputs": []
  },
  {
   "cell_type": "markdown",
   "source": [
    "The `matplotlib.figure.Figure` object acts as a canvas on which we can add one or more plots. The `matplotlib.axes._subplots`. AxesSubplot object is the actual plot. In short, we have two objects:\n",
    "\n",
    "* The Figure (the canvas)\n",
    "* The Axes (the plot; don't confuse with \"axis,\" which is the x- and y-axis of a plot).\n",
    "\n",
    "To create a bar plot, we use the `Axes.bar()` method and call plt.show():\n",
    "\n",
    "```python\n",
    "fig, ax = plt.subplots()\n",
    "ax.bar(['A', 'B', 'C'],\n",
    "       [2, 4, 16])\n",
    "plt.show()\n",
    "```\n"
   ],
   "metadata": {
    "id": "7Kkp1BgdzTci"
   }
  },
  {
   "cell_type": "code",
   "source": [
    "fig, ax = plt.subplots()\n",
    "ax.bar(['A', 'B', 'C'],\n",
    "       [2, 4, 16])\n",
    "plt.show()"
   ],
   "metadata": {
    "colab": {
     "base_uri": "https://localhost:8080/",
     "height": 430
    },
    "id": "WCK1gMa9zrfW",
    "executionInfo": {
     "status": "ok",
     "timestamp": 1702952365484,
     "user_tz": 300,
     "elapsed": 341,
     "user": {
      "displayName": "Jacob Tuchinsky",
      "userId": "16366131501287347260"
     }
    },
    "outputId": "b9d95c6f-6c5c-48db-8f7b-72c08f53f6af",
    "ExecuteTime": {
     "start_time": "2023-12-28T19:58:26.827379Z"
    }
   },
   "execution_count": 4,
   "outputs": [
    {
     "ename": "NameError",
     "evalue": "name 'plt' is not defined",
     "output_type": "error",
     "traceback": [
      "\u001B[0;31m---------------------------------------------------------------------------\u001B[0m",
      "\u001B[0;31mNameError\u001B[0m                                 Traceback (most recent call last)",
      "Cell \u001B[0;32mIn[4], line 1\u001B[0m\n\u001B[0;32m----> 1\u001B[0m fig, ax \u001B[38;5;241m=\u001B[39m \u001B[43mplt\u001B[49m\u001B[38;5;241m.\u001B[39msubplots()\n\u001B[1;32m      2\u001B[0m ax\u001B[38;5;241m.\u001B[39mbar([\u001B[38;5;124m'\u001B[39m\u001B[38;5;124mA\u001B[39m\u001B[38;5;124m'\u001B[39m, \u001B[38;5;124m'\u001B[39m\u001B[38;5;124mB\u001B[39m\u001B[38;5;124m'\u001B[39m, \u001B[38;5;124m'\u001B[39m\u001B[38;5;124mC\u001B[39m\u001B[38;5;124m'\u001B[39m],\n\u001B[1;32m      3\u001B[0m        [\u001B[38;5;241m2\u001B[39m, \u001B[38;5;241m4\u001B[39m, \u001B[38;5;241m16\u001B[39m])\n\u001B[1;32m      4\u001B[0m plt\u001B[38;5;241m.\u001B[39mshow()\n",
      "\u001B[0;31mNameError\u001B[0m: name 'plt' is not defined"
     ]
    }
   ]
  },
  {
   "cell_type": "code",
   "source": [
    "fig, ax = plt.subplots()\n",
    "ax.barh(top20_deathtoll['Country_Other'],\n",
    "         top20_deathtoll['Total_Deaths'])\n",
    "plt.show()"
   ],
   "metadata": {
    "colab": {
     "base_uri": "https://localhost:8080/",
     "height": 430
    },
    "id": "PpMf6wp1zuem",
    "executionInfo": {
     "status": "ok",
     "timestamp": 1702952365797,
     "user_tz": 300,
     "elapsed": 317,
     "user": {
      "displayName": "Jacob Tuchinsky",
      "userId": "16366131501287347260"
     }
    },
    "outputId": "d219f3ae-5fdf-43ba-b847-b543ab06f389",
    "ExecuteTime": {
     "end_time": "2023-12-28T19:58:26.869438Z",
     "start_time": "2023-12-28T19:58:26.857500Z"
    }
   },
   "execution_count": 5,
   "outputs": [
    {
     "ename": "NameError",
     "evalue": "name 'plt' is not defined",
     "output_type": "error",
     "traceback": [
      "\u001B[0;31m---------------------------------------------------------------------------\u001B[0m",
      "\u001B[0;31mNameError\u001B[0m                                 Traceback (most recent call last)",
      "Cell \u001B[0;32mIn[5], line 1\u001B[0m\n\u001B[0;32m----> 1\u001B[0m fig, ax \u001B[38;5;241m=\u001B[39m \u001B[43mplt\u001B[49m\u001B[38;5;241m.\u001B[39msubplots()\n\u001B[1;32m      2\u001B[0m ax\u001B[38;5;241m.\u001B[39mbarh(top20_deathtoll[\u001B[38;5;124m'\u001B[39m\u001B[38;5;124mCountry_Other\u001B[39m\u001B[38;5;124m'\u001B[39m],\n\u001B[1;32m      3\u001B[0m          top20_deathtoll[\u001B[38;5;124m'\u001B[39m\u001B[38;5;124mTotal_Deaths\u001B[39m\u001B[38;5;124m'\u001B[39m])\n\u001B[1;32m      4\u001B[0m plt\u001B[38;5;241m.\u001B[39mshow()\n",
      "\u001B[0;31mNameError\u001B[0m: name 'plt' is not defined"
     ]
    }
   ]
  },
  {
   "cell_type": "markdown",
   "source": [
    "### Mobile-Friendly Proportions\n",
    "We know that a large part of our audience will read the article on a mobile device. This means our graph needs to have mobile-friendly proportions: small width, larger height. Our graph currently has a small height and a larger width.\n",
    "To change the proportions, we can use the `figsize` parameter inside the `plt.subplots(figsize=(width, height))` function:\n",
    "\n",
    "```python\n",
    "fig, ax = plt.subplots(figsize=(3, 5))\n",
    "ax.barh(['A', 'B', 'C'],\n",
    "        [2, 4, 16])\n",
    "plt.show()\n",
    "```\n"
   ],
   "metadata": {
    "id": "xUYdxyTp0lNw"
   }
  },
  {
   "cell_type": "code",
   "source": [
    "fig, ax = plt.subplots(figsize=(4.5, 6))\n",
    "ax.barh(top20_deathtoll['Country_Other'],\n",
    "         top20_deathtoll['Total_Deaths'])\n",
    "plt.show()"
   ],
   "metadata": {
    "colab": {
     "base_uri": "https://localhost:8080/",
     "height": 522
    },
    "id": "-QUQb9X91Cr0",
    "executionInfo": {
     "status": "ok",
     "timestamp": 1702952366241,
     "user_tz": 300,
     "elapsed": 447,
     "user": {
      "displayName": "Jacob Tuchinsky",
      "userId": "16366131501287347260"
     }
    },
    "outputId": "ced6c9f3-bed3-4165-bd0b-47fa12d745d5",
    "ExecuteTime": {
     "end_time": "2023-12-28T19:58:26.881056Z",
     "start_time": "2023-12-28T19:58:26.876516Z"
    }
   },
   "execution_count": 6,
   "outputs": [
    {
     "ename": "NameError",
     "evalue": "name 'plt' is not defined",
     "output_type": "error",
     "traceback": [
      "\u001B[0;31m---------------------------------------------------------------------------\u001B[0m",
      "\u001B[0;31mNameError\u001B[0m                                 Traceback (most recent call last)",
      "Cell \u001B[0;32mIn[6], line 1\u001B[0m\n\u001B[0;32m----> 1\u001B[0m fig, ax \u001B[38;5;241m=\u001B[39m \u001B[43mplt\u001B[49m\u001B[38;5;241m.\u001B[39msubplots(figsize\u001B[38;5;241m=\u001B[39m(\u001B[38;5;241m4.5\u001B[39m, \u001B[38;5;241m6\u001B[39m))\n\u001B[1;32m      2\u001B[0m ax\u001B[38;5;241m.\u001B[39mbarh(top20_deathtoll[\u001B[38;5;124m'\u001B[39m\u001B[38;5;124mCountry_Other\u001B[39m\u001B[38;5;124m'\u001B[39m],\n\u001B[1;32m      3\u001B[0m          top20_deathtoll[\u001B[38;5;124m'\u001B[39m\u001B[38;5;124mTotal_Deaths\u001B[39m\u001B[38;5;124m'\u001B[39m])\n\u001B[1;32m      4\u001B[0m plt\u001B[38;5;241m.\u001B[39mshow()\n",
      "\u001B[0;31mNameError\u001B[0m: name 'plt' is not defined"
     ]
    }
   ]
  },
  {
   "cell_type": "markdown",
   "source": [
    "### Maximizing Data-Ink\n",
    "\n",
    "When we design graphs (and anything in general), we need design principles to guide us. Design principles help us in two ways:\n",
    "\n",
    "* They generate design options.\n",
    "* They help us choose among those options.\n",
    "\n",
    "One design principle we've already covered is **familiarity**.\n",
    ">> For example, if we need to present a frequency distribution visually, familiarity gives us a few options: a histogram and a box plot (let's assume our audience is only familiar with these two). Our audience, however, is more familiar with histograms, so we choose a histogram for our presentation.\n",
    "\n",
    "The next design principle we're going to learn has to do with maximizing data elements on a graph. Generally, a graph has three elements:\n",
    "\n",
    "* Data elements: the numbers and the categories visually represented and the relationships between them.\n",
    "* Structural elements: the axes, the ticks, the legend, the grid, etc.\n",
    "* Decorations: extra colors, shapes, artistic drawings etc.\n",
    "\n",
    "Maximizing the data elements ensures the audience's attention is on the data — not on structure or decorations. Below, we see how removing structural elements and decorations can maximize data elements (GIF source: Darkhorse Analytics):\n",
    "\n",
    "Edward Tufte theorized the principle of maximizing data elements in his book *The Visual Display of Quantitative Information *(1983). From the total amount of ink used for printing a graph, some of the ink goes to show the data — that is the **data-ink**. As a sidenote, Tufte worked on his book in the 1980s, when most graphs were printed on paper using ink.\n",
    "\n",
    "Tufte named the principle of maximizing data elements as **maximizing the data-ink ratio**. The data-ink ratio is the proportion of data-ink from the total ink:\n",
    "\n",
    "$\\textbf{Data-ink ratio} = \\frac{\\textbf{data-ink}}{\\textbf{total ink used to print the graph}}$\n",
    "\n",
    "A graph with many decorations and structural parts has a low data-ink ratio. A graph where data-ink prevails has a greater data-ink ratio. Below, we see two theoretical examples:\n",
    "\n",
    "$\\text{Data-ink ratio}=\\frac{15}{100} = 0.15$\n",
    "\n",
    "$\\text{Data-ink ratio}=\\frac{75}{100} = 0.75$\n",
    "\n",
    "We should try to maximize the data-ink ratio within reason. Some structural elements are necessary; otherwise, the graph can become unreadable. Decorations are optional by definition, but they can help prove a point in some cases. We'll continue this discussion on the next screen, where we'll modify our graph using Tufte's principle: maximizing the data-ink ratio.\n"
   ],
   "metadata": {
    "id": "qesEmJwi1yol"
   }
  },
  {
   "cell_type": "markdown",
   "source": [
    "### Erasing Non-data Ink\n",
    "To maximize data ink, we can do the following:\n",
    "\n",
    "* Erase non-data ink\n",
    "* Erase redundant data-ink\n",
    "\n",
    "Let's see how we can maximize the data-ink ratio on our horizontal bar plot.\n",
    "We begin by identifying the data-ink that we can't remove without losing information (this is the core of the graph):\n",
    "\n",
    "* The bars\n",
    "* The y-tick labels (the country names)\n",
    "* The x-tick labels (the number of deaths)\n",
    "\n",
    "There are two structural elements that constitute non-data ink — we can remove them without losing any important information:\n",
    "\n",
    "* The axes\n",
    "* The ticks\n",
    "\n",
    "To remove the axes (also called spines), we can use the `Axes.spines[position].set_visible(bool)` method, where `position` is a string indicating the location of the axis: `'left', 'right', 'top', and 'bottom'`. For instance, this is how we remove the left and the bottom spines.\n",
    "\n",
    "```python\n",
    "fig, ax = plt.subplots()\n",
    "ax.bar(['A', 'B', 'C'],\n",
    "       [2, 4, 16])\n",
    "ax.spines['left'].set_visible(False)\n",
    "ax.spines['bottom'].set_visible(False)\n",
    "plt.show()\n",
    "```\n",
    "\n",
    "If we want to remove all the spines, the fastest way is to use a for loop:\n",
    "\n",
    "```python\n",
    "fig, ax = plt.subplots()\n",
    "ax.bar(['A', 'B', 'C'],\n",
    "       [2, 4, 16])\n",
    "\n",
    "for location in ['left', 'right', 'bottom', 'top']:\n",
    "    ax.spines[location].set_visible(False)\n",
    "\n",
    "plt.show()\n",
    "```\n",
    "\n",
    "To remove the ticks, we can use the `Axes.tick_params(bottom, top, left, right)` method. Below, we only need to remove the left and bottom ticks:\n",
    "\n",
    "```python\n",
    "fig, ax = plt.subplots()\n",
    "ax.bar(['A', 'B', 'C'],\n",
    "       [2, 4, 16])\n",
    "ax.tick_params(bottom=False, left=False)\n",
    "plt.show()\n",
    "```"
   ],
   "metadata": {
    "id": "gzkOaxf28Hre"
   }
  },
  {
   "cell_type": "code",
   "source": [
    "fig, ax = plt.subplots(figsize=(4.5, 6))\n",
    "ax.barh(top20_deathtoll['Country_Other'],\n",
    "         top20_deathtoll['Total_Deaths'])\n",
    "\n",
    "# remove spines\n",
    "for location in ['left', 'right', 'bottom', 'top']:\n",
    "    ax.spines[location].set_visible(False)\n",
    "\n",
    "#remove tiks\n",
    "ax.tick_params(bottom=False, left=False)\n",
    "plt.show()"
   ],
   "metadata": {
    "colab": {
     "base_uri": "https://localhost:8080/",
     "height": 522
    },
    "id": "hl7CLF2WDAZm",
    "executionInfo": {
     "status": "ok",
     "timestamp": 1702955326457,
     "user_tz": 300,
     "elapsed": 304,
     "user": {
      "displayName": "Jacob Tuchinsky",
      "userId": "16366131501287347260"
     }
    },
    "outputId": "75aae823-9076-42a6-9f66-f693765de96b",
    "ExecuteTime": {
     "start_time": "2023-12-28T19:58:26.879150Z"
    }
   },
   "execution_count": null,
   "outputs": []
  },
  {
   "cell_type": "markdown",
   "source": [
    "### Erasing Redundant Data-Ink\n",
    "\n",
    "On the previous screen, we erased some non-data ink from our graph. Another way to remove more ink is to erase redundant data-ink. For our horizontal bar plot, we can make the bars less thick and remove some of the x-tick labels (we can leave only the labels 0, 150000, and 300000).\n",
    "\n",
    "To make the bars less thick, we can use the `height` parameter inside the `Axes.barh()` method. The `height` parameter has a default value of `0.8`. Below, we exaggerate a little for the sake of the example and make the bars very thin, with `height=0.1`.\n",
    "\n",
    "```python\n",
    "fig, ax = plt.subplots(figsize=(4.5, 6))\n",
    "ax.barh(top20_deathtoll['Country_Other'],\n",
    "        top20_deathtoll['Total_Deaths'],\n",
    "        height=0.1)\n",
    "plt.show()\n",
    "```\n",
    "\n",
    "To remove some of the x-tick labels, we use the `Axes.set_xticks` method. Below, we only keep the labels `0, 100000, 200000, and 300000`.\n",
    "\n",
    "```python\n",
    "fig, ax = plt.subplots(figsize=(4.5, 6))\n",
    "ax.barh(top20_deathtoll['Country_Other'],\n",
    "        top20_deathtoll['Total_Deaths'])\n",
    "ax.set_xticks([0, 100000, 200000, 300000])\n",
    "plt.show()\n",
    "```\n"
   ],
   "metadata": {
    "id": "ElAjTB0wDa2_"
   }
  },
  {
   "cell_type": "code",
   "source": [
    "# Initial Code\n",
    "\n",
    "fig, ax = plt.subplots(figsize=(4.5, 6))\n",
    "# ax.barh(top20_deathtoll['Country_Other'],\n",
    "#        top20_deathtoll['Total_Deaths'])\n",
    "\n",
    "# remove spines\n",
    "for location in ['left', 'right', 'bottom', 'top']:\n",
    "    ax.spines[location].set_visible(False)\n",
    "\n",
    "#remove tiks\n",
    "ax.tick_params(bottom=False, left=False)\n",
    "\n",
    "# Reduce the thickness of each bar to a value of 0.45\n",
    "ax.barh(top20_deathtoll['Country_Other'],\n",
    "        top20_deathtoll['Total_Deaths'],\n",
    "        height=0.45)\n",
    "\n",
    "# Keep only 0, 150000, and 300000 as x-tick labels.\n",
    "ax.set_xticks([0, 150000, 300000])\n",
    "plt.show()"
   ],
   "metadata": {
    "colab": {
     "base_uri": "https://localhost:8080/",
     "height": 522
    },
    "id": "JgUDp6bUE7f6",
    "executionInfo": {
     "status": "ok",
     "timestamp": 1702956281379,
     "user_tz": 300,
     "elapsed": 554,
     "user": {
      "displayName": "Jacob Tuchinsky",
      "userId": "16366131501287347260"
     }
    },
    "outputId": "383992f7-f9c0-49e3-dce6-c9381983b4ea",
    "ExecuteTime": {
     "start_time": "2023-12-28T19:58:26.880305Z"
    }
   },
   "execution_count": null,
   "outputs": []
  },
  {
   "cell_type": "markdown",
   "source": [
    "### The Direction of Reading\n",
    "\n",
    "So far in our lesson, we've applied two design principles:\n",
    "\n",
    "* We chose a horizontal bar graph using the familiarity principle.\n",
    "* We modified the graph using the maximizing data-ink ratio principle.\n",
    "\n",
    "Another aspect that we need to consider is the audience's direction of reading. As they scroll down through our article, they will read (and look at) our graph from top to bottom. More specifically, people usually start from top left and follow a zigzag pattern until they reach bottom right.\n",
    "\n",
    "One problem with our graph is that the tick labels are located at the bottom. People will immediately see the country names, the bars, but they may get confused about the quantities.\n",
    "\n",
    "To address that, we're going to move the tick labels at the top of the graph using the `Axes.xaxis.tick_top()` method:\n",
    "\n",
    "```python\n",
    "# Assume the rest of the code is written\n",
    "ax.xaxis.tick_top()\n",
    "```\n",
    "\n",
    "Right now, the first thing people will probably see are the x-tick labels. We want readers to focus on the data, so we'll do two things:\n",
    "\n",
    "* We'll color the x-tick labels in grey so they don't stand out visually so much.\n",
    "* We'll color the bars in a shade of red.\n",
    "\n",
    "To color the x-tick labels, we use the same `Axes.tick_params()` method. However, we need to call it one more time because we only want to modify the ticks of the x-axis.\n",
    "\n",
    "```python\n",
    "# Assume the rest of the code is written\n",
    "ax.xaxis.tick_top()\n",
    "ax.tick_params(top=False, left=False)\n",
    "ax.tick_params(axis='x', colors='grey')\n",
    "```\n",
    "\n",
    "To change the colors of the bar, we use the `color` parameter in the `Axes.barh(color)` method. This parameter accepts HEX color codes, and we use `#af0b1e` to get a shade of red. (One place where you can get HEX color codes is [here](https://www.color-hex.com/).)\n",
    "\n",
    "```python\n",
    "# Assume the rest of the code is written\n",
    "ax.barh(total_deaths_20['Country_Other'],\n",
    "        total_deaths_20['Total_Deaths'],\n",
    "        height=0.45, color='#af0b1e')\n",
    "```\n"
   ],
   "metadata": {
    "id": "3mtSIWpBG5vj"
   }
  },
  {
   "cell_type": "code",
   "source": [
    "# Initial Code\n",
    "\n",
    "fig, ax = plt.subplots(figsize=(4.5, 6))\n",
    "# ax.barh(top20_deathtoll['Country_Other'],\n",
    "#         top20_deathtoll['Total_Deaths'],\n",
    "#         height=0.45)\n",
    "\n",
    "for location in ['left', 'right', 'top', 'bottom']:\n",
    "    ax.spines[location].set_visible(False)\n",
    "\n",
    "# ax.tick_params(bottom=False, left=False)\n",
    "ax.set_xticks([0, 150000, 300000])\n",
    "\n",
    "# Color the horizontal bar plot using the HEX color code #af0b1e.\n",
    "ax.barh(top20_deathtoll['Country_Other'],\n",
    "        top20_deathtoll['Total_Deaths'],\n",
    "        height=0.45, color='#af0b1e')\n",
    "\n",
    "# Move the x-tick labels on top and make sure no ticks are visible.\n",
    "ax.xaxis.tick_top()\n",
    "ax.tick_params(top=False, left=False)\n",
    "\n",
    "# Color the x-tick labels in grey.\n",
    "ax.tick_params(axis='x', colors='grey')\n",
    "plt.show()"
   ],
   "metadata": {
    "colab": {
     "base_uri": "https://localhost:8080/",
     "height": 522
    },
    "id": "W4bhsYW6Ihck",
    "executionInfo": {
     "status": "ok",
     "timestamp": 1702957146318,
     "user_tz": 300,
     "elapsed": 499,
     "user": {
      "displayName": "Jacob Tuchinsky",
      "userId": "16366131501287347260"
     }
    },
    "outputId": "7cfa142e-9b46-4a55-a381-6e116e665348",
    "ExecuteTime": {
     "end_time": "2023-12-28T19:58:26.915804Z",
     "start_time": "2023-12-28T19:58:26.881394Z"
    }
   },
   "execution_count": null,
   "outputs": []
  },
  {
   "cell_type": "markdown",
   "source": [
    "### Title and Subtitle\n",
    "\n",
    "If someone looks at our graph, they won't be able to tell what the quantity means. They see the USA has almost 300,000 of something, but what is that something?\n",
    "\n",
    "Instead of adding an x-axis label, we'll use the title and subtitle area to give the readers the necessary details. More specifically, we will do the following:\n",
    "\n",
    "* Add a subtitle that explains what the quantity describes and when the data was collected.\n",
    "* Use the title to show readers more data — we'll report that the death toll worldwide has surpassed 1.5M (data source: [Worldometer](https://colab.research.google.com/drive/1mm3fFqriflmMDTQ39QroAot_QoPlOT0l#scrollTo=bt-WnfCy2ka0&line=6&uniqifier=1)).\n",
    "\n",
    "Generally, the title must be data ink. If we need to give structural explanations in text, we can use the subtitle. That's because the title is always so noticeable, and we need to leverage that to show more data (and also maximize the data-ink ratio).\n",
    "\n",
    "To add a title and a subtitle, we're going to use the Axes.text() method. This method expects at least three arguments:\n",
    "\n",
    "* `x` and `y`: the coordinates that give the position of the text.\n",
    "* `s`: the text.\n",
    "\n",
    "Below, we add a title and subtitle to a bar plot:\n",
    "\n",
    "```python\n",
    "fig, ax = plt.subplots()\n",
    "ax.bar(['A', 'B', 'C'],\n",
    "       [2, 4, 16])\n",
    "ax.text(x=0.5, y=18, s='Title example')\n",
    "ax.text(x=0.5, y=17, s='Subtitle example')\n",
    "plt.show()\n",
    "```\n",
    "\n",
    "The `Axes.text()` method has a `size` parameter we can use to control the text size. Also, it has a `weight` parameter that enables us to bold the text.\n",
    "\n",
    "```python\n",
    "fig, ax = plt.subplots()\n",
    "ax.bar(['A', 'B', 'C'],\n",
    "       [2, 4, 16])\n",
    "ax.text(x=0.5, y=18, s='Title example',\n",
    "        size=15, weight='bold')\n",
    "ax.text(x=0.5, y=17, s='Subtitle example',\n",
    "        size=12)\n",
    "plt.show()\n",
    "```\n",
    "\n"
   ],
   "metadata": {
    "id": "1GIV29-eqBF-"
   }
  },
  {
   "cell_type": "code",
   "source": [
    "fig, ax = plt.subplots(figsize=(4.5, 6))\n",
    "ax.barh(top20_deathtoll['Country_Other'],\n",
    "        top20_deathtoll['Total_Deaths'],\n",
    "        height=0.45, color='#af0b1e')\n",
    "for location in ['left', 'right', 'top', 'bottom']:\n",
    "    ax.spines[location].set_visible(False)\n",
    "ax.set_xticks([0, 150000, 300000])\n",
    "ax.xaxis.tick_top()\n",
    "ax.tick_params(top=False, left=False)\n",
    "ax.tick_params(axis='x', colors='grey')\n",
    "\n",
    "# Add the title The Death Toll Worldwide Is 1.5M+.\n",
    "# The title should have the following properties:\n",
    "\n",
    "# The x-coordinate is -80000\n",
    "# The y-coordinate is 23.5\n",
    "# It is in bold text\n",
    "# It has a font size of 17\n",
    "\n",
    "ax.text(x=-80000, y=23.5, s='The Death Toll Worldwide Is 1.5M+',\n",
    "        size=17, weight='bold')\n",
    "\n",
    "# Add the subtitle Top 20 countries by death toll (December 2020). The subtitle should have the following properties:\n",
    "\n",
    "# The x-coordinate is -80000\n",
    "# The y-coordinate is 22.5\n",
    "# It has a font size of 12\n",
    "ax.text(x=-80000, y=22.5, s='Top 20 countries by death toll (December 2020)', size=12)\n",
    "plt.show()"
   ],
   "metadata": {
    "colab": {
     "base_uri": "https://localhost:8080/",
     "height": 589
    },
    "id": "xNDXXgC0rihc",
    "executionInfo": {
     "status": "ok",
     "timestamp": 1702999927085,
     "user_tz": 300,
     "elapsed": 714,
     "user": {
      "displayName": "Jacob Tuchinsky",
      "userId": "16366131501287347260"
     }
    },
    "outputId": "cf4e8a12-dc2d-4e40-f4ef-2cc1a02899ea",
    "ExecuteTime": {
     "start_time": "2023-12-28T19:58:26.882204Z"
    }
   },
   "execution_count": null,
   "outputs": []
  },
  {
   "cell_type": "markdown",
   "source": [
    "### Final Touches\n",
    "\n",
    "We're going to give it some final touches.\n",
    "First, we'll make the y-tick labels easier to read. We'll add a comma to both 150000 and 300000 to make them more readable — so people don't have to struggle to tell whether it's a 30,000 or a 300,000, for instance.\n",
    "\n",
    "To make this change, we use the `Axes.set_xticklabels()` method.\n",
    "\n",
    "```python\n",
    "# Assume the rest of the code is written\n",
    "ax.set_xticklabels(['0', '150,000', '300,000'])\n",
    "```\n",
    "\n",
    "Next, we're going to left-align the y-tick labels (the country names) by applying a `for loop` over the `country names` using python's `zip` function. Thereafter, we will leverage the flexibility of matplotlib's `Axes.text()` method. First, however, we're going to remove the current labels using the `Axes.set_yticklabels()` method.\n",
    "\n",
    "```python\n",
    "# Assume the rest of the code is written\n",
    "ax.set_yticklabels([]) # an empty list removes the labels\n",
    "country_names = top20_deathtoll['Country_Other']\n",
    "for i, country in zip(range(20), country_names):\n",
    "    ax.text(x=-80000, y=i-0.15, s=country)\n",
    "```\n",
    "\n",
    "Readers who explore the graph will try to determine the approximate death toll for each country. To help them, we're going to draw a vertical line below the `150,000` value. To do that, we use the `Axes.axvline(x)` method, where `x` is the `x-coordinate` where the line begins:\n",
    "\n",
    "```python\n",
    "# Assume the rest of the code is written\n",
    "ax.axvline(x=150000)\n",
    "```\n",
    "\n",
    "The color of the vertical line is too bright and stands out more than we want. Moreover, the line spans too far vertically and isn't on the same line with the Turkey label. To fix these problems, we're going to use the following:\n",
    "\n",
    "* The ymin parameter to make it shorter — where 0 is the bottom of the plot, and 1 is the top of the plot.\n",
    "* The c parameter to change the color to 'grey'.\n",
    "* The alpha parameter to add transparency to the line.\n",
    "\n",
    "```python\n",
    "# Assume the rest of the code is written\n",
    "ax.axvline(x=150000, ymin=0.045, c='grey', alpha=0.5)\n",
    "```\n",
    "\n"
   ],
   "metadata": {
    "id": "9Q9PP4K5thFO"
   }
  },
  {
   "cell_type": "code",
   "source": [
    "fig, ax = plt.subplots(figsize=(4.5, 6))\n",
    "ax.barh(top20_deathtoll['Country_Other'],\n",
    "        top20_deathtoll['Total_Deaths'],\n",
    "        height=0.45, color='#af0b1e')\n",
    "for location in ['left', 'right', 'top', 'bottom']:\n",
    "    ax.spines[location].set_visible(False)\n",
    "ax.set_xticks([0, 150000, 300000])\n",
    "ax.xaxis.tick_top()\n",
    "ax.tick_params(top=False, left=False)\n",
    "ax.tick_params(axis='x', colors='grey')\n",
    "ax.text(x=-80000, y=23.5,\n",
    "        s='The Death Toll Worldwide Is 1.5M+',\n",
    "        weight='bold', size=17)\n",
    "ax.text(x=-80000, y=22.5,\n",
    "        s='Top 20 countries by death toll (December 2020)',\n",
    "        size=12)\n",
    "\n",
    "# Change the x-tick labels to 0, 150,000, and 300,000\n",
    "ax.set_xticklabels(['0', '150,000', '300,000'])\n",
    "\n",
    "# Left-align all y-tick labels. Each label must have the coordinates x=-80000 and y=i-0.15, where i is an integer in the range(0, 20).\n",
    "ax.set_yticklabels([]) # an empty list removes the labels\n",
    "country_names = top20_deathtoll['Country_Other']\n",
    "for i, country in zip(range(20), country_names):\n",
    "    ax.text(x=-80000, y=i-0.15, s=country)\n",
    "\n",
    "# Add a vertical line with the following properties:\n",
    "# Its x-coordinate is 150000\n",
    "# Its ymin is 0.045\n",
    "# It has a gray color\n",
    "# It has a transparency of 0.5\n",
    "ax.axvline(x=150000, ymin=0.045, c='grey', alpha=0.5)\n",
    "\n",
    "plt.show()"
   ],
   "metadata": {
    "id": "d5_TWo-ewhjf",
    "executionInfo": {
     "status": "ok",
     "timestamp": 1703000830920,
     "user_tz": 300,
     "elapsed": 628,
     "user": {
      "displayName": "Jacob Tuchinsky",
      "userId": "16366131501287347260"
     }
    },
    "outputId": "e36a040d-fb7d-4382-fafa-c1f5739e19b5",
    "colab": {
     "base_uri": "https://localhost:8080/",
     "height": 589
    },
    "ExecuteTime": {
     "start_time": "2023-12-28T19:58:26.898749Z"
    }
   },
   "execution_count": 7,
   "outputs": [
    {
     "ename": "NameError",
     "evalue": "name 'plt' is not defined",
     "output_type": "error",
     "traceback": [
      "\u001B[0;31m---------------------------------------------------------------------------\u001B[0m",
      "\u001B[0;31mNameError\u001B[0m                                 Traceback (most recent call last)",
      "Cell \u001B[0;32mIn[7], line 1\u001B[0m\n\u001B[0;32m----> 1\u001B[0m fig, ax \u001B[38;5;241m=\u001B[39m \u001B[43mplt\u001B[49m\u001B[38;5;241m.\u001B[39msubplots(figsize\u001B[38;5;241m=\u001B[39m(\u001B[38;5;241m4.5\u001B[39m, \u001B[38;5;241m6\u001B[39m))\n\u001B[1;32m      2\u001B[0m ax\u001B[38;5;241m.\u001B[39mbarh(top20_deathtoll[\u001B[38;5;124m'\u001B[39m\u001B[38;5;124mCountry_Other\u001B[39m\u001B[38;5;124m'\u001B[39m],\n\u001B[1;32m      3\u001B[0m         top20_deathtoll[\u001B[38;5;124m'\u001B[39m\u001B[38;5;124mTotal_Deaths\u001B[39m\u001B[38;5;124m'\u001B[39m],\n\u001B[1;32m      4\u001B[0m         height\u001B[38;5;241m=\u001B[39m\u001B[38;5;241m0.45\u001B[39m, color\u001B[38;5;241m=\u001B[39m\u001B[38;5;124m'\u001B[39m\u001B[38;5;124m#af0b1e\u001B[39m\u001B[38;5;124m'\u001B[39m)\n\u001B[1;32m      5\u001B[0m \u001B[38;5;28;01mfor\u001B[39;00m location \u001B[38;5;129;01min\u001B[39;00m [\u001B[38;5;124m'\u001B[39m\u001B[38;5;124mleft\u001B[39m\u001B[38;5;124m'\u001B[39m, \u001B[38;5;124m'\u001B[39m\u001B[38;5;124mright\u001B[39m\u001B[38;5;124m'\u001B[39m, \u001B[38;5;124m'\u001B[39m\u001B[38;5;124mtop\u001B[39m\u001B[38;5;124m'\u001B[39m, \u001B[38;5;124m'\u001B[39m\u001B[38;5;124mbottom\u001B[39m\u001B[38;5;124m'\u001B[39m]:\n",
      "\u001B[0;31mNameError\u001B[0m: name 'plt' is not defined"
     ]
    }
   ]
  }
 ]
}
