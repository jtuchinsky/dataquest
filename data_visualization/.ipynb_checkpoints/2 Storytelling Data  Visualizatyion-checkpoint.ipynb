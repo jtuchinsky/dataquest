{
 "cells": [
  {
   "cell_type": "markdown",
   "source": [
    "# Storytelling Data Visualization"
   ],
   "metadata": {
    "collapsed": false
   },
   "id": "d27c449549046333"
  },
  {
   "cell_type": "code",
   "outputs": [],
   "source": [
    "import pandas as pd"
   ],
   "metadata": {
    "collapsed": false,
    "ExecuteTime": {
     "end_time": "2023-12-31T00:26:33.118460Z",
     "start_time": "2023-12-31T00:26:30.772954Z"
    }
   },
   "id": "82f018ff3fa1ea53",
   "execution_count": 1
  },
  {
   "cell_type": "code",
   "outputs": [],
   "source": [],
   "metadata": {
    "collapsed": false,
    "ExecuteTime": {
     "end_time": "2023-12-31T00:26:33.138539Z",
     "start_time": "2023-12-31T00:26:33.113154Z"
    }
   },
   "id": "9356c1cdb804b91b",
   "execution_count": 1
  },
  {
   "cell_type": "markdown",
   "source": [
    "## Data Stories\n",
    "![Sample Image](./image1.png)\n",
    "\n",
    "Is presenting the top 20 countries according to death toll really a story?\n",
    "\n",
    "In a broad sense, a story is a sequence of events: something happens, then something else happens, and so on. Rather than events, our graph above presents facts.\n",
    "\n",
    "Another story element is change: something or someone changes throughout the story. Our graph is static: the information we present doesn't show any element of change.\n",
    "\n",
    "There's nothing wrong with showing facts or presenting static information, but that's not a story. To create a data story, we need to wrap those numerical facts into events that show change.\n",
    "\n",
    "For our example above, we can take the particular case of the United States and show how the death toll has changed since the beginning of the pandemic. Below, we see an example of a data story:\n",
    "![Sample Image](./image2.png)"
   ],
   "metadata": {
    "collapsed": false
   },
   "id": "d2e94210e38f0963"
  },
  {
   "cell_type": "markdown",
   "source": [],
   "metadata": {
    "collapsed": false
   },
   "id": "a5f085e796f107b8"
  },
  {
   "cell_type": "code",
   "outputs": [],
   "source": [],
   "metadata": {
    "collapsed": false,
    "ExecuteTime": {
     "end_time": "2023-12-31T00:26:33.153626Z",
     "start_time": "2023-12-31T00:26:33.113373Z"
    }
   },
   "id": "3217d1e46d7c33f9",
   "execution_count": 1
  }
 ],
 "metadata": {
  "kernelspec": {
   "display_name": "Python 3",
   "language": "python",
   "name": "python3"
  },
  "language_info": {
   "codemirror_mode": {
    "name": "ipython",
    "version": 2
   },
   "file_extension": ".py",
   "mimetype": "text/x-python",
   "name": "python",
   "nbconvert_exporter": "python",
   "pygments_lexer": "ipython2",
   "version": "2.7.6"
  }
 },
 "nbformat": 4,
 "nbformat_minor": 5
}
